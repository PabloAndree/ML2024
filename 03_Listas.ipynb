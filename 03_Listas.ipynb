{
  "nbformat": 4,
  "nbformat_minor": 0,
  "metadata": {
    "colab": {
      "provenance": [],
      "include_colab_link": true
    },
    "kernelspec": {
      "name": "python3",
      "display_name": "Python 3"
    },
    "language_info": {
      "name": "python"
    }
  },
  "cells": [
    {
      "cell_type": "markdown",
      "metadata": {
        "id": "view-in-github",
        "colab_type": "text"
      },
      "source": [
        "<a href=\"https://colab.research.google.com/github/PabloAndree/ML2024/blob/main/03_Listas.ipynb\" target=\"_parent\"><img src=\"https://colab.research.google.com/assets/colab-badge.svg\" alt=\"Open In Colab\"/></a>"
      ]
    },
    {
      "cell_type": "markdown",
      "source": [
        "# Listas"
      ],
      "metadata": {
        "id": "VYI_eC84vis7"
      }
    },
    {
      "cell_type": "markdown",
      "source": [
        "**Ejercicio 1:** Dada una lista de números, escribe un programa que calcule la suma total de los elementos."
      ],
      "metadata": {
        "id": "A0C2QEpfvm5N"
      }
    },
    {
      "cell_type": "code",
      "source": [
        "## Solución del ejercicio 1\n",
        "lista = []\n",
        "n = int(input(\"¿Cuántos elementos hay:\"))\n",
        "for x in range(n):\n",
        "  valor = int(input(\"Ingresea el valor:\"))\n",
        "  lista.append(valor)\n",
        "print(sum(lista))"
      ],
      "metadata": {
        "colab": {
          "base_uri": "https://localhost:8080/"
        },
        "id": "lT9G1KWwv1HX",
        "outputId": "cef5cd61-47f5-4a1a-ea34-5a9c94afcec3"
      },
      "execution_count": null,
      "outputs": [
        {
          "output_type": "stream",
          "name": "stdout",
          "text": [
            "¿Cuántos elementos hay:3\n",
            "Ingresea el valor:4\n",
            "Ingresea el valor:9\n",
            "Ingresea el valor:1\n",
            "14\n"
          ]
        }
      ]
    },
    {
      "cell_type": "markdown",
      "source": [
        "**Ejercicio 2:** Escribe un programa que tome una lista de números y calcule su promedio."
      ],
      "metadata": {
        "id": "KP5xiGwDv4oL"
      }
    },
    {
      "cell_type": "code",
      "source": [
        "## Solución del ejercicio 2"
      ],
      "metadata": {
        "id": "9et_kLl_wEFN"
      },
      "execution_count": null,
      "outputs": []
    },
    {
      "cell_type": "markdown",
      "source": [
        "**Ejercicio 3:** Dada una lista de palabras, encuentra y devuelve la palabra más larga.\n"
      ],
      "metadata": {
        "id": "35y6jlIhwHTw"
      }
    },
    {
      "cell_type": "code",
      "source": [
        "## Solución del ejercicio 3\n",
        "\n",
        "def max_palabra(lista):\n",
        "  max = 0\n",
        "  p = None\n",
        "  for palabra in lista:\n",
        "    n = len(palabra)\n",
        "    if n > max:\n",
        "      p = palabra\n",
        "      max = n\n",
        "  return p, max\n",
        "\n",
        "lista = ['aaa', 'b', 'murcielago' ]\n",
        "print(max_palabra(lista))\n"
      ],
      "metadata": {
        "colab": {
          "base_uri": "https://localhost:8080/"
        },
        "id": "ZPYpG281wMFD",
        "outputId": "c3fe4740-5a0b-4329-caf2-58b510bd5fcf"
      },
      "execution_count": null,
      "outputs": [
        {
          "output_type": "stream",
          "name": "stdout",
          "text": [
            "('murcielago', 10)\n"
          ]
        }
      ]
    },
    {
      "cell_type": "markdown",
      "source": [
        "**Ejercicio 4:**  Escribe un programa que encuentre cuántas veces aparece un número específico en una lista."
      ],
      "metadata": {
        "id": "wqQj1zW1wN00"
      }
    },
    {
      "cell_type": "code",
      "source": [
        "## Solución del ejercicio 4"
      ],
      "metadata": {
        "id": "kRpFgFMtwfBF"
      },
      "execution_count": null,
      "outputs": []
    },
    {
      "cell_type": "markdown",
      "source": [
        "**Ejercicio 5:** Dada una lista con elementos duplicados, elimina las repeticiones y devuelve la lista única."
      ],
      "metadata": {
        "id": "FwoPpSTowqqk"
      }
    },
    {
      "cell_type": "code",
      "source": [
        "## Solución del ejercicio 5\n",
        "def elimina_duplicados(lista):\n",
        "  nueva_lista = []\n",
        "  for x in lista:\n",
        "    if x not in nueva_lista:\n",
        "      nueva_lista.append(x)\n",
        "  return nueva_lista\n",
        "\n",
        "lista = [1,2,3,4,1]\n",
        "print(elimina_duplicados(lista))\n"
      ],
      "metadata": {
        "colab": {
          "base_uri": "https://localhost:8080/"
        },
        "id": "oZ8Qiz5Dwyo5",
        "outputId": "514eb9a7-8d6b-4d69-cac8-9a51b225dd69"
      },
      "execution_count": null,
      "outputs": [
        {
          "output_type": "stream",
          "name": "stdout",
          "text": [
            "[1, 2, 3, 4]\n"
          ]
        }
      ]
    },
    {
      "cell_type": "markdown",
      "source": [
        "**Ejercicio 6:**Crea una lista que contenga solo los números pares de una lista original."
      ],
      "metadata": {
        "id": "Eax42OCmw5fF"
      }
    },
    {
      "cell_type": "code",
      "source": [
        "## Solución del ejercicio 6\n",
        "def solo_pares(lista):\n",
        "  nueva_lista = []\n",
        "  for x in lista:\n",
        "    if x%2 == 0:\n",
        "      nueva_lista.append(x)\n",
        "  return nueva_lista\n",
        "\n",
        "lista = [1,2,3,4,1]\n",
        "print(solo_pares(lista))"
      ],
      "metadata": {
        "colab": {
          "base_uri": "https://localhost:8080/"
        },
        "id": "hzFraP90xGKB",
        "outputId": "b96ad8ad-c459-47b3-fef2-92f40e175359"
      },
      "execution_count": null,
      "outputs": [
        {
          "output_type": "stream",
          "name": "stdout",
          "text": [
            "[2, 4]\n"
          ]
        }
      ]
    },
    {
      "cell_type": "markdown",
      "source": [
        "**Ejercicio 7** Dada una lista de números, devuelve una nueva lista con los valores mayores que un umbral dado."
      ],
      "metadata": {
        "id": "6X3Oy7G3xI76"
      }
    },
    {
      "cell_type": "code",
      "source": [
        "## Solución del ejercicio 7\n",
        "def mayores(lista, umbral):\n",
        "  nueva_lista = []\n",
        "  for x in lista:\n",
        "    if x > umbral:\n",
        "      nueva_lista.append(x)\n",
        "  return nueva_lista\n",
        "\n",
        "lista = [1,2,3,4,1]\n",
        "print(mayores(lista, 2))"
      ],
      "metadata": {
        "colab": {
          "base_uri": "https://localhost:8080/"
        },
        "id": "Wyd2H_dJxX0R",
        "outputId": "91111c31-fc68-4ac6-b6ec-8a3d56118891"
      },
      "execution_count": null,
      "outputs": [
        {
          "output_type": "stream",
          "name": "stdout",
          "text": [
            "[3, 4]\n"
          ]
        }
      ]
    },
    {
      "cell_type": "markdown",
      "source": [
        "**Ejercicio 8:** Dada una lista que contiene números y valores nulos (`None`), cuenta cuántos valores nulos hay en la lista."
      ],
      "metadata": {
        "id": "zMaah_NIxVXM"
      }
    },
    {
      "cell_type": "code",
      "source": [
        "## Solución del ejercicio 8\n",
        "def contar_nulos(lista):\n",
        "  cont = 0\n",
        "  for x in lista:\n",
        "    if x is None:\n",
        "      cont += 1\n",
        "  return cont\n",
        "\n",
        "lista = [1,2,3,None, None, None, 3,4,2, 1]\n",
        "print(contar_nulos(lista))\n"
      ],
      "metadata": {
        "colab": {
          "base_uri": "https://localhost:8080/"
        },
        "id": "uTPBqsUOyWPb",
        "outputId": "507799f8-0e7a-4e89-8a60-6ef08fa2c13e"
      },
      "execution_count": null,
      "outputs": [
        {
          "output_type": "stream",
          "name": "stdout",
          "text": [
            "3\n"
          ]
        }
      ]
    },
    {
      "cell_type": "markdown",
      "source": [
        "**Ejercicio 9:** Dada una lista de números, crea una nueva lista filtrada que excluya valores que no cumplan con una condición, por ejemplo, números negativos o mayores a 100."
      ],
      "metadata": {
        "id": "O0AoWe2Zxuim"
      }
    },
    {
      "cell_type": "code",
      "source": [
        "## Solución del ejercicio 9\n",
        "def excluir(lista):\n",
        "  aux = []\n",
        "  for x in lista:\n",
        "    if x < 100 and x > 0:\n",
        "      aux.append(x)\n",
        "  return aux\n",
        "\n",
        "lista = [1, -12, 43, 12, 123, 455, 1, 0]\n",
        "print(excluir(lista))"
      ],
      "metadata": {
        "colab": {
          "base_uri": "https://localhost:8080/"
        },
        "id": "B9hndZinyTh6",
        "outputId": "7ba5a30c-ed0b-4dca-e6c6-212f70108690"
      },
      "execution_count": null,
      "outputs": [
        {
          "output_type": "stream",
          "name": "stdout",
          "text": [
            "[1, 43, 12, 1]\n"
          ]
        }
      ]
    },
    {
      "cell_type": "markdown",
      "source": [
        "**Ejercicio 10:** Dadas dos listas de números, devuelve una lista con los números que estén presentes en ambas listas."
      ],
      "metadata": {
        "id": "qGO1-TmXyCxx"
      }
    },
    {
      "cell_type": "code",
      "source": [
        "## Solución del ejercicio 10\n",
        "def interseccion(lista1, lista2):\n",
        "  aux = []\n",
        "  for x in lista1:\n",
        "    if x in lista2:\n",
        "      aux.append(x)\n",
        "  return aux\n",
        "\n",
        "a = [1,2,3]\n",
        "b = [3,4,5]\n",
        "print(interseccion(a, b))"
      ],
      "metadata": {
        "colab": {
          "base_uri": "https://localhost:8080/"
        },
        "id": "4Mb5WnLiyQ5l",
        "outputId": "fa8873eb-a710-4c92-ce28-acb8c2cd558d"
      },
      "execution_count": null,
      "outputs": [
        {
          "output_type": "stream",
          "name": "stdout",
          "text": [
            "[3]\n"
          ]
        }
      ]
    }
  ]
}